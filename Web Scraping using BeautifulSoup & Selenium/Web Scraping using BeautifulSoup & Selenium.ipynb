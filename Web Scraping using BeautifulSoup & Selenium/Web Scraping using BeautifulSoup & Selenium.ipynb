{
 "cells": [
  {
   "cell_type": "markdown",
   "id": "59bf3581",
   "metadata": {},
   "source": [
    "## Import Library"
   ]
  },
  {
   "cell_type": "code",
   "execution_count": 1,
   "id": "ef98d13e",
   "metadata": {},
   "outputs": [],
   "source": [
    "from selenium import webdriver\n",
    "from bs4 import BeautifulSoup\n",
    "import pandas as pd\n",
    "import time"
   ]
  },
  {
   "cell_type": "markdown",
   "id": "64f46e79",
   "metadata": {},
   "source": [
    "### Scraping from the web page"
   ]
  },
  {
   "cell_type": "code",
   "execution_count": 2,
   "id": "a5b7e567",
   "metadata": {},
   "outputs": [],
   "source": [
    "driver = webdriver.Chrome('C:/Users/NASIR KHAN/Downloads/chromedriver_win32/chromedriver.exe')\n",
    "\n",
    "driver.get('https://collegedunia.com/btech-colleges')"
   ]
  },
  {
   "cell_type": "code",
   "execution_count": 3,
   "id": "c9608647",
   "metadata": {},
   "outputs": [],
   "source": [
    "last_height = driver.execute_script('return document.body.scrollHeight')\n",
    "\n",
    "while True:\n",
    "    driver.execute_script('window.scrollTo(0,document.body.scrollHeight)')\n",
    "    time.sleep(2)\n",
    "    new_height = driver.execute_script('return document.body.scrollHeight')\n",
    "    \n",
    "    if new_height == last_height:\n",
    "        break\n",
    "    last_height = new_height\n",
    "    \n",
    "soup = BeautifulSoup(driver.page_source, 'lxml')\n",
    "\n",
    "college_post = soup.find_all('div', class_ = 'jsx-765939686 listing-block text-uppercase bg-white position-relative')\n",
    "\n"
   ]
  },
  {
   "cell_type": "markdown",
   "id": "59f3cd7f",
   "metadata": {},
   "source": [
    "### Create DataFrame"
   ]
  },
  {
   "cell_type": "code",
   "execution_count": 4,
   "id": "4b109177",
   "metadata": {},
   "outputs": [],
   "source": [
    "df = pd.DataFrame({'Name':[''], 'Location':[''], 'Fee':['']})"
   ]
  },
  {
   "cell_type": "code",
   "execution_count": 16,
   "id": "97f51429",
   "metadata": {},
   "outputs": [],
   "source": [
    "for posting in college_post:\n",
    "    try:\n",
    "        names = posting.find('a', class_ = 'jsx-765939686 college_name m-0 text-white font-weight-bold text-md').text.strip()\n",
    "        location = posting.find('span', class_ = 'jsx-765939686 mr-1').text.strip()\n",
    "        fees = posting.find('span', class_='jsx-765939686 lr-key text-lg text-primary d-block font-weight-bold').text.strip()\n",
    "        rank = posting.find(\"span\", class_='jsx-765939686 rank-container pointer')\n",
    "        df = df.append({'Name':names, 'Location':location,'Fee':fees}, \n",
    "                       ignore_index = True)\n",
    "    except:\n",
    "        pass\n",
    "    break\n"
   ]
  },
  {
   "cell_type": "code",
   "execution_count": 17,
   "id": "5c64351b",
   "metadata": {},
   "outputs": [
    {
     "data": {
      "text/html": [
       "<div>\n",
       "<style scoped>\n",
       "    .dataframe tbody tr th:only-of-type {\n",
       "        vertical-align: middle;\n",
       "    }\n",
       "\n",
       "    .dataframe tbody tr th {\n",
       "        vertical-align: top;\n",
       "    }\n",
       "\n",
       "    .dataframe thead th {\n",
       "        text-align: right;\n",
       "    }\n",
       "</style>\n",
       "<table border=\"1\" class=\"dataframe\">\n",
       "  <thead>\n",
       "    <tr style=\"text-align: right;\">\n",
       "      <th></th>\n",
       "      <th>Name</th>\n",
       "      <th>Location</th>\n",
       "      <th>Fee</th>\n",
       "    </tr>\n",
       "  </thead>\n",
       "  <tbody>\n",
       "    <tr>\n",
       "      <th>0</th>\n",
       "      <td></td>\n",
       "      <td></td>\n",
       "      <td></td>\n",
       "    </tr>\n",
       "    <tr>\n",
       "      <th>1</th>\n",
       "      <td>Indian Institute of Technology Madras - [IITM]...</td>\n",
       "      <td>Chennai, Tamil Nadu</td>\n",
       "      <td>₹  75,116</td>\n",
       "    </tr>\n",
       "    <tr>\n",
       "      <th>2</th>\n",
       "      <td>Indian Institute of Technology - [IIT], New Delhi</td>\n",
       "      <td>New Delhi, Delhi NCR</td>\n",
       "      <td>₹  220,300</td>\n",
       "    </tr>\n",
       "    <tr>\n",
       "      <th>3</th>\n",
       "      <td>IIT Bombay - Indian Institute of Technology, M...</td>\n",
       "      <td>Mumbai, Maharashtra</td>\n",
       "      <td>₹  228,000</td>\n",
       "    </tr>\n",
       "    <tr>\n",
       "      <th>4</th>\n",
       "      <td>Indian Institute of Technology - [IIT], Kharagpur</td>\n",
       "      <td>Kharagpur, West Bengal</td>\n",
       "      <td>₹  82,070</td>\n",
       "    </tr>\n",
       "    <tr>\n",
       "      <th>...</th>\n",
       "      <td>...</td>\n",
       "      <td>...</td>\n",
       "      <td>...</td>\n",
       "    </tr>\n",
       "    <tr>\n",
       "      <th>2122</th>\n",
       "      <td>GGR College of Engineering, Vellore</td>\n",
       "      <td>Vellore, Tamil Nadu</td>\n",
       "      <td>--</td>\n",
       "    </tr>\n",
       "    <tr>\n",
       "      <th>2123</th>\n",
       "      <td>Ganadipathy Tulsi's Jain Engineering College -...</td>\n",
       "      <td>Vellore, Tamil Nadu</td>\n",
       "      <td>₹  55,000</td>\n",
       "    </tr>\n",
       "    <tr>\n",
       "      <th>2124</th>\n",
       "      <td>Government College of Engineering &amp; Textile Te...</td>\n",
       "      <td>Behrampore, West Bengal</td>\n",
       "      <td>₹  21,030</td>\n",
       "    </tr>\n",
       "    <tr>\n",
       "      <th>2125</th>\n",
       "      <td>H.R. Group of Institutions - [HRIT], Ghaziabad</td>\n",
       "      <td>Ghaziabad, Uttar Pradesh</td>\n",
       "      <td>₹  103,800</td>\n",
       "    </tr>\n",
       "    <tr>\n",
       "      <th>2126</th>\n",
       "      <td>Indian Institute of Technology Madras - [IITM]...</td>\n",
       "      <td>Chennai, Tamil Nadu</td>\n",
       "      <td>₹  75,116</td>\n",
       "    </tr>\n",
       "  </tbody>\n",
       "</table>\n",
       "<p>2127 rows × 3 columns</p>\n",
       "</div>"
      ],
      "text/plain": [
       "                                                   Name  \\\n",
       "0                                                         \n",
       "1     Indian Institute of Technology Madras - [IITM]...   \n",
       "2     Indian Institute of Technology - [IIT], New Delhi   \n",
       "3     IIT Bombay - Indian Institute of Technology, M...   \n",
       "4     Indian Institute of Technology - [IIT], Kharagpur   \n",
       "...                                                 ...   \n",
       "2122                GGR College of Engineering, Vellore   \n",
       "2123  Ganadipathy Tulsi's Jain Engineering College -...   \n",
       "2124  Government College of Engineering & Textile Te...   \n",
       "2125     H.R. Group of Institutions - [HRIT], Ghaziabad   \n",
       "2126  Indian Institute of Technology Madras - [IITM]...   \n",
       "\n",
       "                      Location         Fee  \n",
       "0                                           \n",
       "1          Chennai, Tamil Nadu   ₹  75,116  \n",
       "2         New Delhi, Delhi NCR  ₹  220,300  \n",
       "3          Mumbai, Maharashtra  ₹  228,000  \n",
       "4       Kharagpur, West Bengal   ₹  82,070  \n",
       "...                        ...         ...  \n",
       "2122       Vellore, Tamil Nadu          --  \n",
       "2123       Vellore, Tamil Nadu   ₹  55,000  \n",
       "2124   Behrampore, West Bengal   ₹  21,030  \n",
       "2125  Ghaziabad, Uttar Pradesh  ₹  103,800  \n",
       "2126       Chennai, Tamil Nadu   ₹  75,116  \n",
       "\n",
       "[2127 rows x 3 columns]"
      ]
     },
     "execution_count": 17,
     "metadata": {},
     "output_type": "execute_result"
    }
   ],
   "source": [
    "df"
   ]
  },
  {
   "cell_type": "markdown",
   "id": "f1ee5aab",
   "metadata": {},
   "source": [
    "### Saving the data to a csv file"
   ]
  },
  {
   "cell_type": "code",
   "execution_count": 7,
   "id": "0f3c7a93",
   "metadata": {},
   "outputs": [],
   "source": [
    "df.to_csv('btech-colleges.csv')"
   ]
  }
 ],
 "metadata": {
  "kernelspec": {
   "display_name": "Python 3 (ipykernel)",
   "language": "python",
   "name": "python3"
  },
  "language_info": {
   "codemirror_mode": {
    "name": "ipython",
    "version": 3
   },
   "file_extension": ".py",
   "mimetype": "text/x-python",
   "name": "python",
   "nbconvert_exporter": "python",
   "pygments_lexer": "ipython3",
   "version": "3.9.6"
  }
 },
 "nbformat": 4,
 "nbformat_minor": 5
}
